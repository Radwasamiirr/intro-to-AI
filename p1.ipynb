{
 "cells": [
  {
   "cell_type": "code",
   "execution_count": 6,
   "id": "744b2c59",
   "metadata": {},
   "outputs": [
    {
     "name": "stdout",
     "output_type": "stream",
     "text": [
      "3199\n"
     ]
    }
   ],
   "source": [
    "for x in range(2000,3200):\n",
    "   x%7==0\n",
    "   x*5!=1\n",
    "print (x)"
   ]
  },
  {
   "cell_type": "code",
   "execution_count": 21,
   "id": "2f0274bc",
   "metadata": {},
   "outputs": [
    {
     "name": "stdout",
     "output_type": "stream",
     "text": [
      "4\n",
      "24\n"
     ]
    }
   ],
   "source": [
    "x=int(input())\n",
    "n=1\n",
    "for i in range (1,x+1):\n",
    "   n=i*n \n",
    "print(n)"
   ]
  },
  {
   "cell_type": "code",
   "execution_count": 35,
   "id": "db5e367d",
   "metadata": {},
   "outputs": [
    {
     "name": "stdout",
     "output_type": "stream",
     "text": [
      "{1: 1, 2: 4, 3: 9, 4: 16, 5: 25, 6: 36, 7: 49, 8: 64}\n"
     ]
    }
   ],
   "source": [
    "d={}\n",
    "for i in range (1,9):\n",
    "   d[i]=i*i \n",
    "print(d)"
   ]
  },
  {
   "cell_type": "code",
   "execution_count": 12,
   "id": "0ae8b1b9",
   "metadata": {
    "scrolled": true
   },
   "outputs": [
    {
     "name": "stdout",
     "output_type": "stream",
     "text": [
      "5\n",
      "{1: 1, 2: 4, 3: 9, 4: 16, 5: 25}\n"
     ]
    }
   ],
   "source": [
    "n=int(input())\n",
    "\n",
    "d = {i: i * i for i in range(1, n + 1)}\n",
    "print(d)  "
   ]
  },
  {
   "cell_type": "code",
   "execution_count": 17,
   "id": "d83c935b",
   "metadata": {},
   "outputs": [
    {
     "name": "stdout",
     "output_type": "stream",
     "text": [
      "kitten\n",
      "4\n",
      "6\n",
      "e\n",
      "missing_char('kitten', 4 ) -> kitt n\n"
     ]
    }
   ],
   "source": [
    "x= str(input())\n",
    "n=int(input())\n",
    "print(len(x)) \n",
    "print(x[n])\n",
    "print(\"missing_char('kitten',\", n,\")\",\"->\",x.replace(x[n], \" \"))"
   ]
  },
  {
   "cell_type": "code",
   "execution_count": 19,
   "id": "53142097",
   "metadata": {},
   "outputs": [
    {
     "name": "stdout",
     "output_type": "stream",
     "text": [
      "[[ 1. -1.]\n",
      " [-1.  1.]]\n"
     ]
    }
   ],
   "source": [
    "import numpy as np\n",
    "a = np.array([2, 1, 0])\n",
    "b = np.array([0, 1 ,2])\n",
    "c= np.cov([a ,b])\n",
    "print(c)"
   ]
  },
  {
   "cell_type": "code",
   "execution_count": 60,
   "id": "ad2706c7",
   "metadata": {},
   "outputs": [
    {
     "name": "stdout",
     "output_type": "stream",
     "text": [
      "100,48\n"
     ]
    },
    {
     "data": {
      "text/plain": [
       "'111111.1111111111,25600.0'"
      ]
     },
     "execution_count": 60,
     "metadata": {},
     "output_type": "execute_result"
    }
   ],
   "source": [
    "C=50\n",
    "H =30\n",
    "D=input() \n",
    "x = D.split(',')\n",
    "l1=[]\n",
    "for i in x:\n",
    "    Q=  ((2 * C * int(i))/H)**2\n",
    "    l1.append(str(Q))\n",
    "','.join(l1)\n",
    "    "
   ]
  },
  {
   "cell_type": "code",
   "execution_count": 64,
   "id": "843b5143",
   "metadata": {},
   "outputs": [
    {
     "name": "stdout",
     "output_type": "stream",
     "text": [
      "[[0, 1], [2, 3], [4, 5]]\n"
     ]
    }
   ],
   "source": [
    "import numpy as np\n",
    "a= [[0 ,1], [2, 3] ,[4, 5]]\n",
    "c=np.array(a).tolist()\n",
    "print(c)"
   ]
  },
  {
   "cell_type": "code",
   "execution_count": 65,
   "id": "b8812309",
   "metadata": {},
   "outputs": [
    {
     "data": {
      "text/plain": [
       "0"
      ]
     },
     "execution_count": 65,
     "metadata": {},
     "output_type": "execute_result"
    }
   ],
   "source": []
  },
  {
   "cell_type": "code",
   "execution_count": null,
   "id": "f6487295",
   "metadata": {},
   "outputs": [],
   "source": []
  }
 ],
 "metadata": {
  "kernelspec": {
   "display_name": "Python 3 (ipykernel)",
   "language": "python",
   "name": "python3"
  },
  "language_info": {
   "codemirror_mode": {
    "name": "ipython",
    "version": 3
   },
   "file_extension": ".py",
   "mimetype": "text/x-python",
   "name": "python",
   "nbconvert_exporter": "python",
   "pygments_lexer": "ipython3",
   "version": "3.11.4"
  }
 },
 "nbformat": 4,
 "nbformat_minor": 5
}
